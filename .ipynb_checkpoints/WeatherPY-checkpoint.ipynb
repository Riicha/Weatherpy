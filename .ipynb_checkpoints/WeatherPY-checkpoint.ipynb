{
 "cells": [
  {
   "cell_type": "markdown",
   "metadata": {},
   "source": [
    "\n",
    "# WeatherPY\n",
    "\n",
    "## Analysis on WeatherPY\n",
    "##### The plot on Latitude vs Temperature shows that the temperature is highest at the equator and lowest at the poles.\n",
    "##### The humidity at the equator is in the range from 50%-100%. However, the trends does not change based on the latitude.\n",
    "##### There seems to be no co-relation of cloudliness with respect to the latitude.\n",
    "##### The windspeed for most cities fall under 20(mph) and there seems to be no trend on the windspeed with respect to the latitude."
   ]
  },
  {
   "cell_type": "code",
   "execution_count": 81,
   "metadata": {},
   "outputs": [
    {
     "data": {
      "text/plain": [
       "datetime.datetime(2018, 6, 18, 22, 56, 21, 170983)"
      ]
     },
     "execution_count": 81,
     "metadata": {},
     "output_type": "execute_result"
    }
   ],
   "source": [
    "## Import the Dependencies ##\n",
    "import pandas as pd\n",
    "import numpy as np\n",
    "\n",
    "from os import path, makedirs, remove, rmdir # fetch path and makedirs function from os file\n",
    "\n",
    "import random\n",
    "import requests as req\n",
    "\n",
    "import matplotlib.pyplot as plt\n",
    "\n",
    "import config as config\n",
    "from citipy import citipy\n",
    "import openweathermapy as owm\n",
    "\n",
    "#Gets the current date\n",
    "import datetime\n",
    "now = datetime.datetime.now()\n",
    "now"
   ]
  },
  {
   "cell_type": "code",
   "execution_count": 24,
   "metadata": {},
   "outputs": [],
   "source": [
    "# Setting the units to imperial to get Fahrenheit reading\n",
    "settings = {\"units\": \"imperial\", \"appid\": config.owm_key}\n",
    "# config.owm_key"
   ]
  },
  {
   "cell_type": "markdown",
   "metadata": {},
   "source": [
    "## Generate a List of Cities"
   ]
  },
  {
   "cell_type": "code",
   "execution_count": 25,
   "metadata": {},
   "outputs": [],
   "source": [
    "#  The Latitudes range considered from Equator : -90 to 90 & Longitudes range considered from Primeredian: -180 to 180\n",
    "latitude = list(np.arange(-90,90.01,0.01))\n",
    "longitude = list(np.arange(-180,180.01,0.01))\n",
    "# len(longitude)"
   ]
  },
  {
   "cell_type": "code",
   "execution_count": 26,
   "metadata": {},
   "outputs": [],
   "source": [
    "# # Ramdomly generate co-ordinates by setting Latitude and Longitude.\n",
    "latitude_samples=random.sample(latitude,3000)\n",
    "longitude_samples=random.sample(longitude,3000)"
   ]
  },
  {
   "cell_type": "code",
   "execution_count": 27,
   "metadata": {},
   "outputs": [],
   "source": [
    "# # Creating a dataframe from the random sample of Latitude and Longitude\n",
    "cities_data = pd.DataFrame({\"Latitude\":latitude_samples,\"Longitude\":longitude_samples})\n",
    "# cities_data"
   ]
  },
  {
   "cell_type": "code",
   "execution_count": 28,
   "metadata": {},
   "outputs": [],
   "source": [
    "#Creating new columns City and Country for storing the details corresponding to the co-ordinates\n",
    "cities_data[\"City\"]=\"\"\n",
    "cities_data[\"Country\"]=\"\"\n",
    "\n",
    "# Finding the city and the country code corresponding to the Latitude and Longitude\n",
    "for index,row in cities_data.iterrows():\n",
    "    city = citipy.nearest_city(row[\"Latitude\"], row[\"Longitude\"])\n",
    "    cities_data.iat[index,2] =  city.city_name\n",
    "    cities_data.iat[index,3] =  city.country_code\n",
    "    \n",
    "# cities_data"
   ]
  },
  {
   "cell_type": "code",
   "execution_count": 30,
   "metadata": {},
   "outputs": [],
   "source": [
    "# Drop the Latitude and Longitude as the values of the nearest city and not the excat co-ordinates of the city\n",
    "cities_found=cities_data.drop(cities_data.columns[[0, 1]], axis=1)\n",
    "# cities_found\n",
    "\n",
    "unique_cities_data = cities_found \n",
    "\n",
    "# Deleting duplicate values from the list of cities and keeping only the first\n",
    "unique_cities_data = unique_cities_data.drop_duplicates(['City'], keep='first')\n",
    "\n",
    "unique_count = len(unique_cities_data)\n",
    "\n",
    "unique_cities_data = unique_cities_data.sample(n = min(unique_count,1000))\n",
    "\n",
    "# Resetting the index of the cities list\n",
    "unique_cities_data = unique_cities_data.reset_index(drop=True)\n",
    "\n",
    "# unique_cities_data"
   ]
  },
  {
   "cell_type": "markdown",
   "metadata": {},
   "source": [
    "## Perform API Calls"
   ]
  },
  {
   "cell_type": "code",
   "execution_count": 8,
   "metadata": {},
   "outputs": [
    {
     "name": "stdout",
     "output_type": "stream",
     "text": [
      "\n",
      " Retrieving Data !!!\n",
      "-----------------------------\n",
      "\n",
      "samusu in ws is not found!!!... \n",
      "\n",
      "khani in ru is not found!!!... \n",
      "\n",
      "mataura in pf is not found!!!... \n",
      "\n",
      "longa in gr is not found!!!... \n",
      "\n",
      "ijaki in ki is not found!!!... \n",
      "\n",
      "camana in pe is not found!!!... \n",
      "\n",
      "sofiysk in ru is not found!!!... \n",
      "\n",
      "zanatepec in mx is not found!!!... \n",
      "\n",
      "armacao dos buzios in br is not found!!!... \n",
      "\n",
      "acarau in br is not found!!!... \n",
      "\n",
      "achisay in kz is not found!!!... \n",
      "\n",
      "laguna in br is not found!!!... \n",
      "\n",
      "aflu in dz is not found!!!... \n",
      "\n",
      "gat in ly is not found!!!... \n",
      "\n",
      "tabiauea in ki is not found!!!... \n",
      "\n",
      "yialos in gr is not found!!!... \n",
      "\n",
      "bereda in so is not found!!!... \n",
      "\n",
      "sao raimundo nonato in br is not found!!!... \n",
      "\n",
      "khonuu in ru is not found!!!... \n",
      "\n",
      "linchuan in cn is not found!!!... \n",
      "\n",
      "halalo in wf is not found!!!... \n",
      "\n",
      "ruatoria in nz is not found!!!... \n",
      "\n",
      "goderich in sl is not found!!!... \n",
      "\n",
      "vaitupu in wf is not found!!!... \n",
      "\n",
      "rungata in ki is not found!!!... \n",
      "\n",
      "louisbourg in ca is not found!!!... \n",
      "\n",
      "karkaralinsk in kz is not found!!!... \n",
      "\n",
      "malwan in in is not found!!!... \n",
      "\n",
      "umzimvubu in za is not found!!!... \n",
      "\n",
      "kamenskoye in ru is not found!!!... \n",
      "\n",
      "banmo in mm is not found!!!... \n",
      "\n",
      "airai in pw is not found!!!... \n",
      "\n",
      "zlobin in by is not found!!!... \n",
      "\n",
      "avera in pf is not found!!!... \n",
      "\n",
      "belushya guba in ru is not found!!!... \n",
      "\n",
      "skagastrond in is is not found!!!... \n",
      "\n",
      "satitoa in ws is not found!!!... \n",
      "\n",
      "ayan in ru is not found!!!... \n",
      "\n",
      "cazaje in ao is not found!!!... \n",
      "\n",
      "odweyne in so is not found!!!... \n",
      "\n",
      "qui nhon in vn is not found!!!... \n",
      "\n",
      "payo in ph is not found!!!... \n",
      "\n",
      "barbar in sd is not found!!!... \n",
      "\n",
      "jabiru in au is not found!!!... \n",
      "\n",
      "meyungs in pw is not found!!!... \n",
      "\n",
      "ginda in er is not found!!!... \n",
      "\n",
      "saint anthony in ca is not found!!!... \n",
      "\n",
      "pousat in kh is not found!!!... \n",
      "\n",
      "illoqqortoormiut in gl is not found!!!... \n",
      "\n",
      "zabinka in by is not found!!!... \n",
      "\n",
      "yanan in cn is not found!!!... \n",
      "\n",
      "paradwip in in is not found!!!... \n",
      "\n",
      "codrington in ag is not found!!!... \n",
      "\n",
      "lata in sb is not found!!!... \n",
      "\n",
      "saint-georges in gf is not found!!!... \n",
      "\n",
      "tsihombe in mg is not found!!!... \n",
      "\n",
      "kismayo in so is not found!!!... \n",
      "\n",
      "lasa in cn is not found!!!... \n",
      "\n",
      "tumannyy in ru is not found!!!... \n",
      "\n",
      "zhanatas in kz is not found!!!... \n",
      "\n",
      "bolungarvik in is is not found!!!... \n",
      "\n",
      "devyatka in ru is not found!!!... \n",
      "\n",
      "amderma in ru is not found!!!... \n",
      "\n",
      "barentsburg in sj is not found!!!... \n",
      "\n",
      "alotau in pg is not found!!!... \n",
      "\n",
      "nizhneyansk in ru is not found!!!... \n",
      "\n",
      "ust-kamchatsk in ru is not found!!!... \n",
      "\n",
      "karaul in ru is not found!!!... \n",
      "\n",
      "zolotinka in ru is not found!!!... \n",
      "\n",
      "buin in pg is not found!!!... \n",
      "\n",
      "pokanayevka in ru is not found!!!... \n",
      "\n",
      "barawe in so is not found!!!... \n",
      "\n",
      "bombay in in is not found!!!... \n",
      "\n",
      "lolua in tv is not found!!!... \n",
      "\n",
      "bengkulu in id is not found!!!... \n",
      "\n",
      "sokoni in tz is not found!!!... \n",
      "\n",
      "formoso do araguaia in br is not found!!!... \n",
      "\n",
      "play cu in vn is not found!!!... \n",
      "\n",
      "galgani in sd is not found!!!... \n",
      "\n",
      "mys shmidta in ru is not found!!!... \n",
      "\n",
      "laureles in py is not found!!!... \n",
      "\n",
      "marcona in pe is not found!!!... \n",
      "\n",
      "taolanaro in mg is not found!!!... \n",
      "\n",
      "saleaula in ws is not found!!!... \n",
      "\n",
      "tongsa in bt is not found!!!... \n",
      "\n",
      "rab in hr is not found!!!... \n",
      "\n",
      "sentyabrskiy in ru is not found!!!... \n",
      "\n",
      "abu samrah in qa is not found!!!... \n",
      "\n",
      "asau in tv is not found!!!... \n",
      "\n",
      "raga in sd is not found!!!... \n",
      "\n",
      "talawdi in sd is not found!!!... \n",
      "\n",
      "viligili in mv is not found!!!... \n",
      "\n",
      "attawapiskat in ca is not found!!!... \n",
      "\n",
      "chagda in ru is not found!!!... \n",
      "\n",
      "galiwinku in au is not found!!!... \n",
      "\n",
      "bara in sd is not found!!!... \n",
      "\n",
      "wulanhaote in cn is not found!!!... \n",
      "\n",
      "akyab in mm is not found!!!... \n",
      "\n",
      "sinkat in sd is not found!!!... \n",
      "\n",
      "coulihaut in dm is not found!!!... \n",
      "\n",
      "faya in td is not found!!!... \n",
      "\n",
      "mrirt in ma is not found!!!... \n",
      "\n",
      "inderborskiy in kz is not found!!!... \n",
      "\n",
      "vestbygda in no is not found!!!... \n",
      "\n",
      "olafsvik in is is not found!!!... \n",
      "\n",
      "sigerfjord in no is not found!!!... \n",
      "\n",
      "-----------------------------\n",
      "Weather Data download Complete !!!\n",
      "-----------------------------\n"
     ]
    }
   ],
   "source": [
    "# Get data for each city in unique_cities_data\n",
    "weather_data_list_json = []\n",
    "\n",
    "url=\"https://api.openweathermap.org/data/2.5/weather?appid=\" + config.gkey + \"&units=imperial&q=\"\n",
    "\n",
    "print(\"\\n Retrieving Data !!!\\n-----------------------------\")\n",
    "\n",
    "#Get the response from OpenWeatherMapY and storing the response into weather_data if response is found\n",
    "for index,row in unique_cities_data.iterrows():  \n",
    "    # print(\"\\nProcessing record %s|%s,%s\"%((index+1),row[\"City\"],row[\"Country\"]))\n",
    "    # print(\"\\n\"+url+\"%s,%s\"%(row[\"City\"].replace(\" \",\"+\"),row[\"Country\"]))\n",
    "    try:\n",
    "        response = owm.get_current(\"%s,%s\"%(row[\"City\"],row[\"Country\"]), **settings)\n",
    "        # Appending the response to the weather_Data\n",
    "        weather_data_list_json.append(response)\n",
    "    except:\n",
    "          print(\"\\n\" + row[\"City\"] + \" in \" + row[\"Country\"] + \" is not found!!!... \")\n",
    "         # print(\"\\n\\033[1;31m City not found. Skipping...\\033[1;30m\" + row[\"City\"] + \" not found \"+ \"in \" + row[\"Country\"])\n",
    "\n",
    "print(\"\\n-----------------------------\\nWeather Data download Complete !!!\\n-----------------------------\")"
   ]
  },
  {
   "cell_type": "code",
   "execution_count": 9,
   "metadata": {},
   "outputs": [],
   "source": [
    "# len(weather_data_list_json)\n",
    "# weather_data_list_json"
   ]
  },
  {
   "cell_type": "code",
   "execution_count": 47,
   "metadata": {},
   "outputs": [
    {
     "data": {
      "text/html": [
       "<div>\n",
       "<style scoped>\n",
       "    .dataframe tbody tr th:only-of-type {\n",
       "        vertical-align: middle;\n",
       "    }\n",
       "\n",
       "    .dataframe tbody tr th {\n",
       "        vertical-align: top;\n",
       "    }\n",
       "\n",
       "    .dataframe thead th {\n",
       "        text-align: right;\n",
       "    }\n",
       "</style>\n",
       "<table border=\"1\" class=\"dataframe\">\n",
       "  <thead>\n",
       "    <tr style=\"text-align: right;\">\n",
       "      <th></th>\n",
       "      <th>City</th>\n",
       "      <th>Country</th>\n",
       "      <th>Date</th>\n",
       "      <th>Latitude</th>\n",
       "      <th>Longitude</th>\n",
       "      <th>Temperature</th>\n",
       "      <th>Humidity</th>\n",
       "      <th>Wind speed</th>\n",
       "      <th>Cloudliness</th>\n",
       "    </tr>\n",
       "  </thead>\n",
       "  <tbody>\n",
       "    <tr>\n",
       "      <th>0</th>\n",
       "      <td>Punta Arenas</td>\n",
       "      <td>CL</td>\n",
       "      <td>1529373600</td>\n",
       "      <td>-53.16</td>\n",
       "      <td>-70.91</td>\n",
       "      <td>33.80</td>\n",
       "      <td>100</td>\n",
       "      <td>19.46</td>\n",
       "      <td>40</td>\n",
       "    </tr>\n",
       "    <tr>\n",
       "      <th>1</th>\n",
       "      <td>Kodiak</td>\n",
       "      <td>US</td>\n",
       "      <td>1529369580</td>\n",
       "      <td>39.95</td>\n",
       "      <td>-94.76</td>\n",
       "      <td>87.80</td>\n",
       "      <td>58</td>\n",
       "      <td>8.05</td>\n",
       "      <td>75</td>\n",
       "    </tr>\n",
       "    <tr>\n",
       "      <th>2</th>\n",
       "      <td>Kawalu</td>\n",
       "      <td>ID</td>\n",
       "      <td>1529374309</td>\n",
       "      <td>-7.38</td>\n",
       "      <td>108.21</td>\n",
       "      <td>73.71</td>\n",
       "      <td>85</td>\n",
       "      <td>2.62</td>\n",
       "      <td>48</td>\n",
       "    </tr>\n",
       "    <tr>\n",
       "      <th>3</th>\n",
       "      <td>Duluth</td>\n",
       "      <td>US</td>\n",
       "      <td>1529372100</td>\n",
       "      <td>46.77</td>\n",
       "      <td>-92.13</td>\n",
       "      <td>71.60</td>\n",
       "      <td>72</td>\n",
       "      <td>4.70</td>\n",
       "      <td>1</td>\n",
       "    </tr>\n",
       "    <tr>\n",
       "      <th>4</th>\n",
       "      <td>Lakes Entrance</td>\n",
       "      <td>AU</td>\n",
       "      <td>1529374309</td>\n",
       "      <td>-37.88</td>\n",
       "      <td>147.99</td>\n",
       "      <td>54.54</td>\n",
       "      <td>97</td>\n",
       "      <td>5.19</td>\n",
       "      <td>92</td>\n",
       "    </tr>\n",
       "  </tbody>\n",
       "</table>\n",
       "</div>"
      ],
      "text/plain": [
       "             City Country        Date  Latitude  Longitude  Temperature  \\\n",
       "0    Punta Arenas      CL  1529373600    -53.16     -70.91        33.80   \n",
       "1          Kodiak      US  1529369580     39.95     -94.76        87.80   \n",
       "2          Kawalu      ID  1529374309     -7.38     108.21        73.71   \n",
       "3          Duluth      US  1529372100     46.77     -92.13        71.60   \n",
       "4  Lakes Entrance      AU  1529374309    -37.88     147.99        54.54   \n",
       "\n",
       "   Humidity  Wind speed  Cloudliness  \n",
       "0       100       19.46           40  \n",
       "1        58        8.05           75  \n",
       "2        85        2.62           48  \n",
       "3        72        4.70            1  \n",
       "4        97        5.19           92  "
      ]
     },
     "execution_count": 47,
     "metadata": {},
     "output_type": "execute_result"
    }
   ],
   "source": [
    "# Create an \"extracts\" object to get the various parameter required to form the weather data table\n",
    "weather_data_df = [\"name\",\"sys.country\",\"dt\",\"coord.lat\", \"coord.lon\",\"main.temp_max\",\"main.humidity\",\"wind.speed\",\"clouds.all\"]\n",
    "\n",
    "# Create a Pandas DataFrame with the results\n",
    "data = [response(*weather_data_df) for response in weather_data_list_json]\n",
    "column_names = [\"City\",\"Country\",\"Date\",\"Latitude\", \"Longitude\",\"Temperature\",\"Humidity\",\"Wind speed\",\"Cloudliness\"]\n",
    "weather_data_df = pd.DataFrame(data, columns=column_names)\n",
    "\n",
    "weather_data_df.head()"
   ]
  },
  {
   "cell_type": "code",
   "execution_count": 89,
   "metadata": {},
   "outputs": [],
   "source": [
    "#Check if output folder exist, create if not exists!\n",
    "\n",
    "filePath = 'Output'\n",
    "if not path.exists(filePath):\n",
    "    makedirs(filePath)\n",
    "\n",
    "# Save the result to a csv file\n",
    "weather_data_df.to_csv(\"Output/Weather_Data.csv\")\n",
    "\n",
    "# Count of the data in the dataframe\n",
    "# weather_data_df.count()\n",
    "\n",
    "# Take only 500 cities\n",
    "weather_data_500_Cities = weather_data_df.head(500)"
   ]
  },
  {
   "cell_type": "code",
   "execution_count": 90,
   "metadata": {},
   "outputs": [],
   "source": [
    "# Creating a function to set the properties of the graph\n",
    "def plot_graph(x_label,y_label,x_limits,save_file_name):\n",
    "    plt.xlabel(x_label)\n",
    "    plt.ylabel(y_label)\n",
    "    plt.xlim(x_limits)\n",
    "    plt.title(\"%s vs %s (%s/%s/%s)\"%(x_label,y_label,now.month,now.day,now.year),fontsize=14)\n",
    "    plt.grid(True)\n",
    "    plt.savefig(save_file_name)\n",
    "    plt.show()"
   ]
  },
  {
   "cell_type": "markdown",
   "metadata": {},
   "source": [
    "## Latitude vs Temperature Plot"
   ]
  },
  {
   "cell_type": "code",
   "execution_count": 91,
   "metadata": {},
   "outputs": [
    {
     "data": {
      "image/png": "[encoded data removed]",
      "text/plain": [
       "<Figure size 432x288 with 1 Axes>"
      ]
     },
     "metadata": {},
     "output_type": "display_data"
    }
   ],
   "source": [
    "# Latitude vs Max. Temperature(F)# Latitude \n",
    "plt.scatter(x=weather_data_500_Cities[\"Latitude\"],y=weather_data_500_Cities[\"Temperature\"],facecolors=\"blue\",edgecolors=\"black\")  \n",
    "plot_graph(\"Latitude\",\"Max. Temperature(°F)\",[-90,90],\"Output/City Latitude vs Temperature.png\")"
   ]
  },
  {
   "cell_type": "markdown",
   "metadata": {},
   "source": [
    "## Latitude vs. Humidity Plot\n"
   ]
  },
  {
   "cell_type": "code",
   "execution_count": 92,
   "metadata": {},
   "outputs": [
    {
     "data": {
      "image/png": "[encoded data removed]",
      "text/plain": [
       "<Figure size 432x288 with 1 Axes>"
      ]
     },
     "metadata": {},
     "output_type": "display_data"
    }
   ],
   "source": [
    "# # Latitude vs Humidity in % \n",
    "plt.scatter(x=weather_data_500_Cities[\"Latitude\"],y=weather_data_500_Cities[\"Humidity\"],facecolors=\"blue\",edgecolors=\"black\")\n",
    "plot_graph(\"Latitude\",\"Humidity(%)\",[-90,90],\"Output/City Latitude vs Humidity.png\")"
   ]
  },
  {
   "cell_type": "markdown",
   "metadata": {},
   "source": [
    "## Latitude vs. Cloudiness Plot"
   ]
  },
  {
   "cell_type": "code",
   "execution_count": 93,
   "metadata": {},
   "outputs": [
    {
     "data": {
      "image/png": "[encoded data removed]",
      "text/plain": [
       "<Figure size 432x288 with 1 Axes>"
      ]
     },
     "metadata": {},
     "output_type": "display_data"
    }
   ],
   "source": [
    "# Latitude vs Cloudliness in %\n",
    "plt.scatter(x=weather_data_500_Cities[\"Latitude\"],y=weather_data_500_Cities[\"Cloudliness\"],facecolors=\"blue\",edgecolors=\"black\")\n",
    "plot_graph(\"Latitude\",\"Cloudliness(%)\",[-90,90],\"Output/City Latitude vs Cloudliness.png\")"
   ]
  },
  {
   "cell_type": "markdown",
   "metadata": {},
   "source": [
    "## Latitude vs. Wind Speed Plot"
   ]
  },
  {
   "cell_type": "code",
   "execution_count": 94,
   "metadata": {},
   "outputs": [
    {
     "data": {
      "image/png": "[encoded data removed]",
      "text/plain": [
       "<Figure size 432x288 with 1 Axes>"
      ]
     },
     "metadata": {},
     "output_type": "display_data"
    }
   ],
   "source": [
    "# Latitude vs Wind Speed in (mph)\n",
    "plt.scatter(x=weather_data_500_Cities[\"Latitude\"],y=weather_data_500_Cities[\"Wind speed\"],facecolors=\"blue\",edgecolors=\"black\")\n",
    "plot_graph(\"Latitude\",\"Wind speed(mph)\",[-90,90],\"Output/City Latitude vs Wind speed.png\")"
   ]
  },
  {
   "cell_type": "code",
   "execution_count": null,
   "metadata": {},
   "outputs": [],
   "source": []
  }
 ],
 "metadata": {
  "kernelspec": {
   "display_name": "Python 3",
   "language": "python",
   "name": "python3"
  },
  "language_info": {
   "codemirror_mode": {
    "name": "ipython",
    "version": 3
   },
   "file_extension": ".py",
   "mimetype": "text/x-python",
   "name": "python",
   "nbconvert_exporter": "python",
   "pygments_lexer": "ipython3",
   "version": "3.6.5"
  }
 },
 "nbformat": 4,
 "nbformat_minor": 2
}
